{
 "cells": [
  {
   "cell_type": "code",
   "execution_count": 1,
   "metadata": {},
   "outputs": [],
   "source": [
    "import pandas as pd\n",
    "import matplotlib.pyplot as plt\n",
    "import seaborn as sns"
   ]
  },
  {
   "cell_type": "markdown",
   "metadata": {},
   "source": [
    "1. General info about the dataset: number of ratings, users, books\n",
    "2. Average number of ratings per book, per user + distribution\n",
    "3. Distribution of scores of books\n",
    "4. Joint plot (count & rating) of books - what are the scores of frequently scored books and rarely scored books\n",
    "5. Number of books from each year & number of ratings (& avg score)\n",
    "6. Average score and number of ratings of:\n",
    "- top popular books\n",
    "- best scored books\n",
    "7. Average score and number of ratings of:\n",
    "- top popular authors\n",
    "- best scored authors\n",
    "\n",
    "\n",
    "\n",
    "Preprocessing\n",
    "* load data without skipping rows\n",
    "* remove incorrect rows\n",
    "* add missing isbns (scraper?)\n",
    "* remove books older than around 1900"
   ]
  },
  {
   "cell_type": "code",
   "execution_count": 3,
   "metadata": {},
   "outputs": [],
   "source": [
    "df = pd.read_csv('data/ratings_explicit.csv')"
   ]
  },
  {
   "cell_type": "code",
   "execution_count": 4,
   "metadata": {},
   "outputs": [
    {
     "data": {
      "text/html": [
       "<div>\n",
       "<style scoped>\n",
       "    .dataframe tbody tr th:only-of-type {\n",
       "        vertical-align: middle;\n",
       "    }\n",
       "\n",
       "    .dataframe tbody tr th {\n",
       "        vertical-align: top;\n",
       "    }\n",
       "\n",
       "    .dataframe thead th {\n",
       "        text-align: right;\n",
       "    }\n",
       "</style>\n",
       "<table border=\"1\" class=\"dataframe\">\n",
       "  <thead>\n",
       "    <tr style=\"text-align: right;\">\n",
       "      <th></th>\n",
       "      <th>user_id</th>\n",
       "      <th>isbn</th>\n",
       "      <th>book_rating</th>\n",
       "    </tr>\n",
       "  </thead>\n",
       "  <tbody>\n",
       "    <tr>\n",
       "      <th>0</th>\n",
       "      <td>276726</td>\n",
       "      <td>0155061224</td>\n",
       "      <td>5</td>\n",
       "    </tr>\n",
       "    <tr>\n",
       "      <th>1</th>\n",
       "      <td>276729</td>\n",
       "      <td>052165615X</td>\n",
       "      <td>3</td>\n",
       "    </tr>\n",
       "    <tr>\n",
       "      <th>2</th>\n",
       "      <td>276729</td>\n",
       "      <td>0521795028</td>\n",
       "      <td>6</td>\n",
       "    </tr>\n",
       "    <tr>\n",
       "      <th>3</th>\n",
       "      <td>276736</td>\n",
       "      <td>3257224281</td>\n",
       "      <td>8</td>\n",
       "    </tr>\n",
       "    <tr>\n",
       "      <th>4</th>\n",
       "      <td>276737</td>\n",
       "      <td>0600570967</td>\n",
       "      <td>6</td>\n",
       "    </tr>\n",
       "  </tbody>\n",
       "</table>\n",
       "</div>"
      ],
      "text/plain": [
       "   user_id        isbn  book_rating\n",
       "0   276726  0155061224            5\n",
       "1   276729  052165615X            3\n",
       "2   276729  0521795028            6\n",
       "3   276736  3257224281            8\n",
       "4   276737  0600570967            6"
      ]
     },
     "execution_count": 4,
     "metadata": {},
     "output_type": "execute_result"
    }
   ],
   "source": [
    "#df.columns = ['user_id', 'isbn', 'rating']\n",
    "#df = df[df['rating']!=0] #remove implicit ratings\n",
    "df.head()"
   ]
  },
  {
   "cell_type": "code",
   "execution_count": 5,
   "metadata": {},
   "outputs": [
    {
     "name": "stdout",
     "output_type": "stream",
     "text": [
      "Number of ratings: 433642\n",
      "Number of users: 77792\n",
      "Number of books: 185946\n"
     ]
    }
   ],
   "source": [
    "print('Number of ratings: %d\\nNumber of users: %d\\nNumber of books: %d' % (len(df), len(df['user_id'].unique()), len(df['isbn'].unique())))"
   ]
  },
  {
   "cell_type": "code",
   "execution_count": 6,
   "metadata": {},
   "outputs": [],
   "source": [
    "def df_dist(df, colname, norm=False):\n",
    "    new_df = df[colname].value_counts(normalize=norm).reset_index()\n",
    "    new_df.columns = [colname, 'count']\n",
    "    return new_df"
   ]
  },
  {
   "cell_type": "code",
   "execution_count": 7,
   "metadata": {},
   "outputs": [],
   "source": [
    "dist_user = df_dist(df, 'user_id')\n",
    "dist_book = df_dist(df, 'isbn')"
   ]
  },
  {
   "cell_type": "code",
   "execution_count": 8,
   "metadata": {},
   "outputs": [
    {
     "data": {
      "image/png": "[encoded data removed]",
      "text/plain": [
       "<Figure size 1008x288 with 2 Axes>"
      ]
     },
     "metadata": {
      "needs_background": "light"
     },
     "output_type": "display_data"
    },
    {
     "name": "stdout",
     "output_type": "stream",
     "text": [
      "Average number of ratings per user: 5.57\n",
      "Average number of ratings per book: 2.33\n"
     ]
    }
   ],
   "source": [
    "fig, (ax1, ax2) = plt.subplots(nrows=1, ncols=2, figsize=(14, 4))\n",
    "\n",
    "sns.distplot(dist_user['count'], color='#2f6194', ax=ax1)\n",
    "ax1.set_title('Distribution of number of ratings per user')\n",
    "\n",
    "sns.distplot(dist_book['count'], color='#2f6194', ax=ax2)\n",
    "ax2.set_title('Distribution of number of ratings per book')\n",
    "\n",
    "plt.show()\n",
    "\n",
    "print('Average number of ratings per user: %.2f\\nAverage number of ratings per book: %.2f' % (dist_user['count'].mean(), dist_book['count'].mean()))"
   ]
  },
  {
   "cell_type": "code",
   "execution_count": 9,
   "metadata": {},
   "outputs": [
    {
     "name": "stdout",
     "output_type": "stream",
     "text": [
      "number of users with more than 3 ratings: 22567\n",
      "number of ratings 368563\n",
      "\n",
      "number of top 5% most popular books: 8383\n",
      "number of ratings 138181\n"
     ]
    }
   ],
   "source": [
    "user_threshold = 3\n",
    "book_threshold = 0.05\n",
    "\n",
    "user_list = dist_user[dist_user['count']>=user_threshold]['user_id'].unique()\n",
    "df_top = df[df['user_id'].isin(user_list)]\n",
    "print('number of users with more than %d ratings: %d' % (user_threshold, len(user_list)))\n",
    "print('number of ratings', len(df_top))\n",
    "\n",
    "dist_book2 = df_dist(df_top, 'isbn', norm=True)\n",
    "book_list = dist_book2.head(int(book_threshold * len(dist_book2)))['isbn'].unique()\n",
    "df_top = df_top[df_top['isbn'].isin(book_list)]\n",
    "\n",
    "print('\\nnumber of top %d%% most popular books: %d' % (book_threshold*100, len(book_list)))\n",
    "print('number of ratings', len(df_top))"
   ]
  },
  {
   "cell_type": "code",
   "execution_count": 23,
   "metadata": {},
   "outputs": [],
   "source": [
    "df_top.to_csv('data/ratings_top.csv', encoding='utf-8', index=False)"
   ]
  },
  {
   "cell_type": "code",
   "execution_count": 12,
   "metadata": {},
   "outputs": [],
   "source": [
    "dist_rating = df_dist(df, 'book_rating')\n",
    "dist_rating_top = df_dist(df_top, 'book_rating')"
   ]
  },
  {
   "cell_type": "code",
   "execution_count": 13,
   "metadata": {},
   "outputs": [
    {
     "data": {
      "image/png": "[encoded data removed]",
      "text/plain": [
       "<Figure size 1008x288 with 2 Axes>"
      ]
     },
     "metadata": {
      "needs_background": "light"
     },
     "output_type": "display_data"
    }
   ],
   "source": [
    "palette = sns.color_palette(\"RdBu\", 10)\n",
    "fig, (ax1, ax2) = plt.subplots(nrows=1, ncols=2, figsize=(14, 4))\n",
    "\n",
    "sns.barplot(x='book_rating', y='count', data=dist_rating, palette=palette, ax=ax1)\n",
    "ax1.set_title('Distribution of ratings of all books')\n",
    "\n",
    "sns.barplot(x='book_rating', y='count', data=dist_rating_top, palette=palette, ax=ax2)\n",
    "ax2.set_title('Distribution of ratings of top 5% most popular books')\n",
    "\n",
    "plt.show()"
   ]
  },
  {
   "cell_type": "code",
   "execution_count": 14,
   "metadata": {},
   "outputs": [],
   "source": [
    "books = df.groupby('isbn').agg({'book_rating': ['count', 'mean']}).reset_index()\n",
    "books.columns  = ['isbn', 'count', 'rating']\n",
    "books = books.sort_values(by='count', ascending=False)"
   ]
  },
  {
   "cell_type": "code",
   "execution_count": 15,
   "metadata": {},
   "outputs": [],
   "source": [
    "df_books = pd.read_csv('data/books.csv')\n",
    "#df_books.drop(['Image-URL-S', 'Image-URL-M', 'Image-URL-L'], axis=1, inplace=True)\n",
    "#df_books.columns= ['isbn', 'book_title', 'book_author', 'year_of_publication', 'publisher']"
   ]
  },
  {
   "cell_type": "code",
   "execution_count": 16,
   "metadata": {},
   "outputs": [
    {
     "data": {
      "text/html": [
       "<div>\n",
       "<style scoped>\n",
       "    .dataframe tbody tr th:only-of-type {\n",
       "        vertical-align: middle;\n",
       "    }\n",
       "\n",
       "    .dataframe tbody tr th {\n",
       "        vertical-align: top;\n",
       "    }\n",
       "\n",
       "    .dataframe thead th {\n",
       "        text-align: right;\n",
       "    }\n",
       "</style>\n",
       "<table border=\"1\" class=\"dataframe\">\n",
       "  <thead>\n",
       "    <tr style=\"text-align: right;\">\n",
       "      <th></th>\n",
       "      <th>isbn</th>\n",
       "      <th>count</th>\n",
       "      <th>rating</th>\n",
       "      <th>book_title</th>\n",
       "      <th>book_author</th>\n",
       "      <th>year_of_publication</th>\n",
       "      <th>publisher</th>\n",
       "    </tr>\n",
       "  </thead>\n",
       "  <tbody>\n",
       "    <tr>\n",
       "      <th>0</th>\n",
       "      <td>0316666343</td>\n",
       "      <td>707</td>\n",
       "      <td>8.185290</td>\n",
       "      <td>The Lovely Bones: A Novel</td>\n",
       "      <td>Alice Sebold</td>\n",
       "      <td>2002.0</td>\n",
       "      <td>Little, Brown</td>\n",
       "    </tr>\n",
       "    <tr>\n",
       "      <th>1</th>\n",
       "      <td>0971880107</td>\n",
       "      <td>581</td>\n",
       "      <td>4.390706</td>\n",
       "      <td>Wild Animus</td>\n",
       "      <td>Rich Shapero</td>\n",
       "      <td>2004.0</td>\n",
       "      <td>Too Far</td>\n",
       "    </tr>\n",
       "  </tbody>\n",
       "</table>\n",
       "</div>"
      ],
      "text/plain": [
       "         isbn  count    rating                 book_title   book_author  \\\n",
       "0  0316666343    707  8.185290  The Lovely Bones: A Novel  Alice Sebold   \n",
       "1  0971880107    581  4.390706                Wild Animus  Rich Shapero   \n",
       "\n",
       "   year_of_publication      publisher  \n",
       "0               2002.0  Little, Brown  \n",
       "1               2004.0        Too Far  "
      ]
     },
     "execution_count": 16,
     "metadata": {},
     "output_type": "execute_result"
    }
   ],
   "source": [
    "books = books.merge(df_books, on='isbn', how='left')\n",
    "books.head(2)"
   ]
  },
  {
   "cell_type": "code",
   "execution_count": 17,
   "metadata": {},
   "outputs": [],
   "source": [
    "def short_title(title, max_len=40):\n",
    "    title = str(title).split(' ')\n",
    "    short_title = ''\n",
    "    \n",
    "    for i in range(len(title)):\n",
    "        if len(short_title) < max_len:\n",
    "            short_title = ' '.join([short_title, title[i]])\n",
    "    short_title = short_title.strip()\n",
    "    return short_title"
   ]
  },
  {
   "cell_type": "code",
   "execution_count": 18,
   "metadata": {},
   "outputs": [],
   "source": [
    "books['book_title_short'] = books['book_title'].apply(short_title, max_len=35)"
   ]
  },
  {
   "cell_type": "code",
   "execution_count": 19,
   "metadata": {},
   "outputs": [
    {
     "data": {
      "image/png": "[encoded data removed]",
      "text/plain": [
       "<Figure size 1008x432 with 2 Axes>"
      ]
     },
     "metadata": {
      "needs_background": "light"
     },
     "output_type": "display_data"
    }
   ],
   "source": [
    "books_data = books.head(20)\n",
    "books_data = books_data.sort_values(by='rating', ascending=False)\n",
    "\n",
    "fig, ax1 = plt.subplots(figsize=(14, 6))\n",
    "plt.xticks(rotation=90)\n",
    "\n",
    "palette = sns.color_palette(\"RdBu\", 20)\n",
    "\n",
    "sns.barplot(x='book_title_short', y='rating', data=books_data, palette=palette, ax=ax1)\n",
    "ax1.set_title('Average rating and number of ratings of the most popular books')\n",
    "\n",
    "ax2 = ax1.twinx()\n",
    "sns.scatterplot(x='book_title_short', y='count', data=books_data, color='black', ax=ax2)\n",
    "\n",
    "plt.show()"
   ]
  },
  {
   "cell_type": "code",
   "execution_count": 20,
   "metadata": {},
   "outputs": [
    {
     "data": {
      "text/plain": [
       "<seaborn.axisgrid.JointGrid at 0x1f14b2c67c8>"
      ]
     },
     "execution_count": 20,
     "metadata": {},
     "output_type": "execute_result"
    },
    {
     "data": {
      "image/png": "[encoded data removed]",
      "text/plain": [
       "<Figure size 432x432 with 3 Axes>"
      ]
     },
     "metadata": {
      "needs_background": "light"
     },
     "output_type": "display_data"
    }
   ],
   "source": [
    "sns.jointplot(x='count', y='rating', data=books)"
   ]
  },
  {
   "cell_type": "code",
   "execution_count": 21,
   "metadata": {},
   "outputs": [
    {
     "data": {
      "text/html": [
       "<div>\n",
       "<style scoped>\n",
       "    .dataframe tbody tr th:only-of-type {\n",
       "        vertical-align: middle;\n",
       "    }\n",
       "\n",
       "    .dataframe tbody tr th {\n",
       "        vertical-align: top;\n",
       "    }\n",
       "\n",
       "    .dataframe thead th {\n",
       "        text-align: right;\n",
       "    }\n",
       "</style>\n",
       "<table border=\"1\" class=\"dataframe\">\n",
       "  <thead>\n",
       "    <tr style=\"text-align: right;\">\n",
       "      <th></th>\n",
       "      <th>isbn</th>\n",
       "      <th>count</th>\n",
       "      <th>rating</th>\n",
       "      <th>book_title</th>\n",
       "      <th>book_author</th>\n",
       "      <th>year_of_publication</th>\n",
       "      <th>publisher</th>\n",
       "      <th>book_title_short</th>\n",
       "    </tr>\n",
       "  </thead>\n",
       "  <tbody>\n",
       "    <tr>\n",
       "      <th>6</th>\n",
       "      <td>059035342X</td>\n",
       "      <td>313</td>\n",
       "      <td>8.939297</td>\n",
       "      <td>Harry Potter and the Sorcerer's Stone (Harry P...</td>\n",
       "      <td>J. K. Rowling</td>\n",
       "      <td>1999.0</td>\n",
       "      <td>Arthur A. Levine Books</td>\n",
       "      <td>Harry Potter and the Sorcerer's Stone</td>\n",
       "    </tr>\n",
       "    <tr>\n",
       "      <th>7</th>\n",
       "      <td>0142001740</td>\n",
       "      <td>307</td>\n",
       "      <td>8.452769</td>\n",
       "      <td>The Secret Life of Bees</td>\n",
       "      <td>Sue Monk Kidd</td>\n",
       "      <td>2003.0</td>\n",
       "      <td>Penguin Books</td>\n",
       "      <td>The Secret Life of Bees</td>\n",
       "    </tr>\n",
       "    <tr>\n",
       "      <th>2</th>\n",
       "      <td>0385504209</td>\n",
       "      <td>487</td>\n",
       "      <td>8.435318</td>\n",
       "      <td>The Da Vinci Code</td>\n",
       "      <td>Dan Brown</td>\n",
       "      <td>2003.0</td>\n",
       "      <td>Doubleday</td>\n",
       "      <td>The Da Vinci Code</td>\n",
       "    </tr>\n",
       "    <tr>\n",
       "      <th>4</th>\n",
       "      <td>0679781587</td>\n",
       "      <td>333</td>\n",
       "      <td>8.408408</td>\n",
       "      <td>NaN</td>\n",
       "      <td>NaN</td>\n",
       "      <td>NaN</td>\n",
       "      <td>NaN</td>\n",
       "      <td>nan</td>\n",
       "    </tr>\n",
       "    <tr>\n",
       "      <th>0</th>\n",
       "      <td>0316666343</td>\n",
       "      <td>707</td>\n",
       "      <td>8.185290</td>\n",
       "      <td>The Lovely Bones: A Novel</td>\n",
       "      <td>Alice Sebold</td>\n",
       "      <td>2002.0</td>\n",
       "      <td>Little, Brown</td>\n",
       "      <td>The Lovely Bones: A Novel</td>\n",
       "    </tr>\n",
       "  </tbody>\n",
       "</table>\n",
       "</div>"
      ],
      "text/plain": [
       "         isbn  count    rating  \\\n",
       "6  059035342X    313  8.939297   \n",
       "7  0142001740    307  8.452769   \n",
       "2  0385504209    487  8.435318   \n",
       "4  0679781587    333  8.408408   \n",
       "0  0316666343    707  8.185290   \n",
       "\n",
       "                                          book_title    book_author  \\\n",
       "6  Harry Potter and the Sorcerer's Stone (Harry P...  J. K. Rowling   \n",
       "7                            The Secret Life of Bees  Sue Monk Kidd   \n",
       "2                                  The Da Vinci Code      Dan Brown   \n",
       "4                                                NaN            NaN   \n",
       "0                          The Lovely Bones: A Novel   Alice Sebold   \n",
       "\n",
       "   year_of_publication               publisher  \\\n",
       "6               1999.0  Arthur A. Levine Books   \n",
       "7               2003.0           Penguin Books   \n",
       "2               2003.0               Doubleday   \n",
       "4                  NaN                     NaN   \n",
       "0               2002.0           Little, Brown   \n",
       "\n",
       "                        book_title_short  \n",
       "6  Harry Potter and the Sorcerer's Stone  \n",
       "7                The Secret Life of Bees  \n",
       "2                      The Da Vinci Code  \n",
       "4                                    nan  \n",
       "0              The Lovely Bones: A Novel  "
      ]
     },
     "execution_count": 21,
     "metadata": {},
     "output_type": "execute_result"
    }
   ],
   "source": [
    "books_data.head()"
   ]
  },
  {
   "cell_type": "code",
   "execution_count": 55,
   "metadata": {},
   "outputs": [
    {
     "data": {
      "text/html": [
       "<div>\n",
       "<style scoped>\n",
       "    .dataframe tbody tr th:only-of-type {\n",
       "        vertical-align: middle;\n",
       "    }\n",
       "\n",
       "    .dataframe tbody tr th {\n",
       "        vertical-align: top;\n",
       "    }\n",
       "\n",
       "    .dataframe thead th {\n",
       "        text-align: right;\n",
       "    }\n",
       "</style>\n",
       "<table border=\"1\" class=\"dataframe\">\n",
       "  <thead>\n",
       "    <tr style=\"text-align: right;\">\n",
       "      <th></th>\n",
       "      <th>isbn</th>\n",
       "      <th>count</th>\n",
       "      <th>rating</th>\n",
       "      <th>book_title</th>\n",
       "      <th>book_author</th>\n",
       "      <th>year_of_publication</th>\n",
       "      <th>publisher</th>\n",
       "      <th>book_title_short</th>\n",
       "    </tr>\n",
       "  </thead>\n",
       "  <tbody>\n",
       "    <tr>\n",
       "      <th>2</th>\n",
       "      <td>0385504209</td>\n",
       "      <td>487</td>\n",
       "      <td>8.435318</td>\n",
       "      <td>The Da Vinci Code</td>\n",
       "      <td>Dan Brown</td>\n",
       "      <td>2003</td>\n",
       "      <td>Doubleday</td>\n",
       "      <td>The Da Vinci Code</td>\n",
       "    </tr>\n",
       "    <tr>\n",
       "      <th>4</th>\n",
       "      <td>0679781587</td>\n",
       "      <td>333</td>\n",
       "      <td>8.408408</td>\n",
       "      <td>NaN</td>\n",
       "      <td>NaN</td>\n",
       "      <td>NaN</td>\n",
       "      <td>NaN</td>\n",
       "      <td>nan</td>\n",
       "    </tr>\n",
       "    <tr>\n",
       "      <th>0</th>\n",
       "      <td>0316666343</td>\n",
       "      <td>707</td>\n",
       "      <td>8.185290</td>\n",
       "      <td>The Lovely Bones: A Novel</td>\n",
       "      <td>Alice Sebold</td>\n",
       "      <td>2002</td>\n",
       "      <td>Little, Brown</td>\n",
       "      <td>The Lovely Bones: A Novel</td>\n",
       "    </tr>\n",
       "    <tr>\n",
       "      <th>3</th>\n",
       "      <td>0312195516</td>\n",
       "      <td>383</td>\n",
       "      <td>8.182768</td>\n",
       "      <td>The Red Tent (Bestselling Backlist)</td>\n",
       "      <td>Anita Diamant</td>\n",
       "      <td>1998</td>\n",
       "      <td>Picador USA</td>\n",
       "      <td>The Red Tent (Bestselling Backlist)</td>\n",
       "    </tr>\n",
       "    <tr>\n",
       "      <th>1</th>\n",
       "      <td>0971880107</td>\n",
       "      <td>581</td>\n",
       "      <td>4.390706</td>\n",
       "      <td>Wild Animus</td>\n",
       "      <td>Rich Shapero</td>\n",
       "      <td>2004</td>\n",
       "      <td>Too Far</td>\n",
       "      <td>Wild Animus</td>\n",
       "    </tr>\n",
       "  </tbody>\n",
       "</table>\n",
       "</div>"
      ],
      "text/plain": [
       "         isbn  count    rating                           book_title  \\\n",
       "2  0385504209    487  8.435318                    The Da Vinci Code   \n",
       "4  0679781587    333  8.408408                                  NaN   \n",
       "0  0316666343    707  8.185290            The Lovely Bones: A Novel   \n",
       "3  0312195516    383  8.182768  The Red Tent (Bestselling Backlist)   \n",
       "1  0971880107    581  4.390706                          Wild Animus   \n",
       "\n",
       "     book_author year_of_publication      publisher  \\\n",
       "2      Dan Brown                2003      Doubleday   \n",
       "4            NaN                 NaN            NaN   \n",
       "0   Alice Sebold                2002  Little, Brown   \n",
       "3  Anita Diamant                1998    Picador USA   \n",
       "1   Rich Shapero                2004        Too Far   \n",
       "\n",
       "                      book_title_short  \n",
       "2                    The Da Vinci Code  \n",
       "4                                  nan  \n",
       "0            The Lovely Bones: A Novel  \n",
       "3  The Red Tent (Bestselling Backlist)  \n",
       "1                          Wild Animus  "
      ]
     },
     "execution_count": 55,
     "metadata": {},
     "output_type": "execute_result"
    }
   ],
   "source": [
    "books.head(5).sort_values(by='rating', ascending=False)"
   ]
  },
  {
   "cell_type": "code",
   "execution_count": 77,
   "metadata": {},
   "outputs": [],
   "source": [
    "def year(y):\n",
    "    try:\n",
    "        return int(y)\n",
    "    except ValueError:\n",
    "        return 0\n",
    "\n",
    "df_books['year_of_publication'] = df_books['year_of_publication'].apply(year)"
   ]
  },
  {
   "cell_type": "code",
   "execution_count": 83,
   "metadata": {},
   "outputs": [
    {
     "data": {
      "text/plain": [
       "<matplotlib.axes._subplots.AxesSubplot at 0x1e19f1727c8>"
      ]
     },
     "execution_count": 83,
     "metadata": {},
     "output_type": "execute_result"
    },
    {
     "data": {
      "image/png": "[encoded data removed]",
      "text/plain": [
       "<Figure size 432x288 with 1 Axes>"
      ]
     },
     "metadata": {
      "needs_background": "light"
     },
     "output_type": "display_data"
    }
   ],
   "source": [
    "df_books_new = df_books[df_books['year_of_publication']>1800]\n",
    "sns.distplot(df_books_new['year_of_publication'])"
   ]
  },
  {
   "cell_type": "code",
   "execution_count": 81,
   "metadata": {},
   "outputs": [
    {
     "data": {
      "text/plain": [
       "array([   0, 1806, 1378, 1897, 1376], dtype=int64)"
      ]
     },
     "execution_count": 81,
     "metadata": {},
     "output_type": "execute_result"
    }
   ],
   "source": [
    "df_books[df_books['year_of_publication']<1900]['year_of_publication'].unique()"
   ]
  },
  {
   "cell_type": "code",
   "execution_count": 87,
   "metadata": {},
   "outputs": [
    {
     "data": {
      "text/html": [
       "<div>\n",
       "<style scoped>\n",
       "    .dataframe tbody tr th:only-of-type {\n",
       "        vertical-align: middle;\n",
       "    }\n",
       "\n",
       "    .dataframe tbody tr th {\n",
       "        vertical-align: top;\n",
       "    }\n",
       "\n",
       "    .dataframe thead th {\n",
       "        text-align: right;\n",
       "    }\n",
       "</style>\n",
       "<table border=\"1\" class=\"dataframe\">\n",
       "  <thead>\n",
       "    <tr style=\"text-align: right;\">\n",
       "      <th></th>\n",
       "      <th>isbn</th>\n",
       "      <th>book_title</th>\n",
       "      <th>book_author</th>\n",
       "      <th>year_of_publication</th>\n",
       "      <th>publisher</th>\n",
       "    </tr>\n",
       "  </thead>\n",
       "  <tbody>\n",
       "    <tr>\n",
       "      <th>108555</th>\n",
       "      <td>B0000VZEFK</td>\n",
       "      <td>Is That a Gun in Your Pocket?: Women's Experie...</td>\n",
       "      <td>Rachel Abramowitz</td>\n",
       "      <td>1900</td>\n",
       "      <td>Random House</td>\n",
       "    </tr>\n",
       "    <tr>\n",
       "      <th>171817</th>\n",
       "      <td>0781228956</td>\n",
       "      <td>Complete Works 10 Volumes [2,6,7,8,9] (Notable...</td>\n",
       "      <td>Benjamin Franklin</td>\n",
       "      <td>1806</td>\n",
       "      <td>Reprint Services Corp</td>\n",
       "    </tr>\n",
       "    <tr>\n",
       "      <th>211854</th>\n",
       "      <td>1551103982</td>\n",
       "      <td>The Cycling Adventures of Coconut Head: A Nort...</td>\n",
       "      <td>Ted Schredd</td>\n",
       "      <td>1900</td>\n",
       "      <td>Graphic Arts Center Pub Co</td>\n",
       "    </tr>\n",
       "    <tr>\n",
       "      <th>245607</th>\n",
       "      <td>0781268001</td>\n",
       "      <td>Hugh Wynne, Free Quaker (2 Volumes (BCL1-PS Am...</td>\n",
       "      <td>Silas Weir Mitchell</td>\n",
       "      <td>1897</td>\n",
       "      <td>Reprint Services Corp</td>\n",
       "    </tr>\n",
       "    <tr>\n",
       "      <th>256444</th>\n",
       "      <td>B00009NDBF</td>\n",
       "      <td>Help Yourself: Celebrating the Rewards of Resi...</td>\n",
       "      <td>David J. Pelzer</td>\n",
       "      <td>1900</td>\n",
       "      <td>E P Dutton</td>\n",
       "    </tr>\n",
       "  </tbody>\n",
       "</table>\n",
       "</div>"
      ],
      "text/plain": [
       "              isbn                                         book_title  \\\n",
       "108555  B0000VZEFK  Is That a Gun in Your Pocket?: Women's Experie...   \n",
       "171817  0781228956  Complete Works 10 Volumes [2,6,7,8,9] (Notable...   \n",
       "211854  1551103982  The Cycling Adventures of Coconut Head: A Nort...   \n",
       "245607  0781268001  Hugh Wynne, Free Quaker (2 Volumes (BCL1-PS Am...   \n",
       "256444  B00009NDBF  Help Yourself: Celebrating the Rewards of Resi...   \n",
       "\n",
       "                book_author  year_of_publication                   publisher  \n",
       "108555    Rachel Abramowitz                 1900                Random House  \n",
       "171817    Benjamin Franklin                 1806       Reprint Services Corp  \n",
       "211854          Ted Schredd                 1900  Graphic Arts Center Pub Co  \n",
       "245607  Silas Weir Mitchell                 1897       Reprint Services Corp  \n",
       "256444      David J. Pelzer                 1900                  E P Dutton  "
      ]
     },
     "execution_count": 87,
     "metadata": {},
     "output_type": "execute_result"
    }
   ],
   "source": [
    "df_books[df_books['year_of_publication'].between(1800,1900)]"
   ]
  }
 ],
 "metadata": {
  "kernelspec": {
   "display_name": "master",
   "language": "python",
   "name": "master"
  },
  "language_info": {
   "codemirror_mode": {
    "name": "ipython",
    "version": 3
   },
   "file_extension": ".py",
   "mimetype": "text/x-python",
   "name": "python",
   "nbconvert_exporter": "python",
   "pygments_lexer": "ipython3",
   "version": "3.7.6"
  }
 },
 "nbformat": 4,
 "nbformat_minor": 2
}
