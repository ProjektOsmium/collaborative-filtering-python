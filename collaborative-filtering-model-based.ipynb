{
 "cells": [
  {
   "cell_type": "markdown",
   "metadata": {},
   "source": [
    "# Model Based Collaborative Filtering Recommender\n",
    "\n",
    "The goal of the recommender system is to predict user preference for a set of items based on the past experience. Two the most popular approaches are Content-Based and Collaborative Filtering.\n",
    "\n",
    "Collaborative filtering is a technique used by websites like Amazon, YouTube, and Netflix. It filters out items that a user might like on the basis of reactions of similar users. There are two categories of collaborative filtering algorithms: memory based and model based.\n",
    "\n",
    "Model based approach involves building machine learning algorithms to predict user's ratings. They involve dimensionality reduction methods that reduce high dimensional matrix containing abundant number of missing values with a much smaller matrix in lower-dimensional space.\n",
    "\n",
    "The goal of this exercise is to compare SVD and NMF algorithms, try different configurations of parameters and explore obtained results."
   ]
  },
  {
   "cell_type": "code",
   "execution_count": 1,
   "metadata": {},
   "outputs": [],
   "source": [
    "import pandas as pd\n",
    "import numpy as np\n",
    "import seaborn as sns\n",
    "import matplotlib.pyplot as plt\n",
    "\n",
    "from surprise import Dataset, Reader\n",
    "from surprise import SVD, NMF\n",
    "from surprise.model_selection import cross_validate, train_test_split, GridSearchCV\n",
    "\n",
    "import functions as f"
   ]
  },
  {
   "cell_type": "markdown",
   "metadata": {},
   "source": [
    "This analysis will focus on book recommendations based on [Book-Crossing dataset](http://www2.informatik.uni-freiburg.de/~cziegler/BX/). To reduce the dimensionality of the dataset and avoid running into memory error it will focus on users with at least 3 ratings and top 10% most frequently rated books. It consists of 176,594 records.\n",
    "\n",
    "The recommender systems will be built using [surprise package](https://surprise.readthedocs.io/en/stable/getting_started.html) (Matrix Factorization - based models)."
   ]
  },
  {
   "cell_type": "code",
   "execution_count": 2,
   "metadata": {},
   "outputs": [],
   "source": [
    "df = pd.read_csv('data/ratings_top.csv')\n",
    "\n",
    "reader = Reader(rating_scale=(1, 10))\n",
    "data = Dataset.load_from_df(df[['user_id', 'isbn', 'book_rating']], reader)"
   ]
  },
  {
   "cell_type": "code",
   "execution_count": 3,
   "metadata": {},
   "outputs": [
    {
     "name": "stdout",
     "output_type": "stream",
     "text": [
      "Number of ratings: 176594\n",
      "Number of books: 16766\n",
      "Number of users: 20149\n"
     ]
    }
   ],
   "source": [
    "print('Number of ratings: %d\\nNumber of books: %d\\nNumber of users: %d' % (len(df), len(df['isbn'].unique()), len(df['user_id'].unique())))"
   ]
  },
  {
   "cell_type": "markdown",
   "metadata": {},
   "source": [
    "## SVD and NMF models comparison\n",
    "\n",
    "Singular Value Decomposition (SVD) and Non-negative Matrix Factorization (NMF) are matrix factorization techniques used for dimensionality reduction. Surprise package provides implementation of those algorithms.\n",
    "\n",
    "It's clear that for the given dataset much better results can be obtained with SVD approach - both in case of accuracy and training / testing time."
   ]
  },
  {
   "cell_type": "code",
   "execution_count": 15,
   "metadata": {},
   "outputs": [
    {
     "data": {
      "text/plain": [
       "test_rmse     1.606926\n",
       "test_mae      1.242338\n",
       "fit_time     18.130412\n",
       "test_time     1.120190\n",
       "dtype: float64"
      ]
     },
     "execution_count": 15,
     "metadata": {},
     "output_type": "execute_result"
    }
   ],
   "source": [
    "model_svd = SVD()\n",
    "cv_results_svd = cross_validate(model_svd, data, cv=3)\n",
    "pd.DataFrame(cv_results_svd).mean()"
   ]
  },
  {
   "cell_type": "code",
   "execution_count": 16,
   "metadata": {},
   "outputs": [
    {
     "data": {
      "text/plain": [
       "test_rmse     2.640803\n",
       "test_mae      2.255504\n",
       "fit_time     22.795353\n",
       "test_time     1.005285\n",
       "dtype: float64"
      ]
     },
     "execution_count": 16,
     "metadata": {},
     "output_type": "execute_result"
    }
   ],
   "source": [
    "model_nmf = NMF()\n",
    "cv_results_nmf = cross_validate(model_nmf, data, cv=3)\n",
    "pd.DataFrame(cv_results_nmf).mean()"
   ]
  },
  {
   "cell_type": "markdown",
   "metadata": {},
   "source": [
    "## Optimisation of SVD algorithm"
   ]
  },
  {
   "cell_type": "code",
   "execution_count": 17,
   "metadata": {},
   "outputs": [
    {
     "name": "stdout",
     "output_type": "stream",
     "text": [
      "1.5981785240945765\n",
      "{'n_factors': 80, 'n_epochs': 20, 'lr_all': 0.005, 'reg_all': 0.2}\n"
     ]
    }
   ],
   "source": [
    "param_grid = {'n_factors': [80,100,120],\n",
    "              'n_epochs': [5, 10, 20],\n",
    "              'lr_all': [0.002, 0.005],\n",
    "              'reg_all': [0.2, 0.4, 0.6]}\n",
    "\n",
    "gs = GridSearchCV(SVD, param_grid, measures=['rmse', 'mae'], cv=3)\n",
    "gs.fit(data)\n",
    "\n",
    "print(gs.best_score['rmse'])\n",
    "print(gs.best_params['rmse'])\n",
    "\n",
    "#1.5981785240945765\n",
    "#{'n_factors': 80, 'n_epochs': 20, 'lr_all': 0.005, 'reg_all': 0.2}"
   ]
  },
  {
   "cell_type": "markdown",
   "metadata": {},
   "source": [
    "## Analysis of Collaborative Filtering model results"
   ]
  },
  {
   "cell_type": "code",
   "execution_count": 18,
   "metadata": {},
   "outputs": [],
   "source": [
    "trainset, testset = train_test_split(data, test_size=0.2)\n",
    "\n",
    "model = SVD(n_factors=80, n_epochs=20, lr_all=0.005, reg_all=0.2)\n",
    "model.fit(trainset)\n",
    "predictions = model.test(testset)"
   ]
  },
  {
   "cell_type": "code",
   "execution_count": 23,
   "metadata": {},
   "outputs": [
    {
     "data": {
      "text/html": [
       "<div>\n",
       "<style scoped>\n",
       "    .dataframe tbody tr th:only-of-type {\n",
       "        vertical-align: middle;\n",
       "    }\n",
       "\n",
       "    .dataframe tbody tr th {\n",
       "        vertical-align: top;\n",
       "    }\n",
       "\n",
       "    .dataframe thead th {\n",
       "        text-align: right;\n",
       "    }\n",
       "</style>\n",
       "<table border=\"1\" class=\"dataframe\">\n",
       "  <thead>\n",
       "    <tr style=\"text-align: right;\">\n",
       "      <th></th>\n",
       "      <th>user_id</th>\n",
       "      <th>isbn</th>\n",
       "      <th>actual_rating</th>\n",
       "      <th>pred_rating</th>\n",
       "      <th>impossible</th>\n",
       "      <th>pred_rating_round</th>\n",
       "      <th>abs_err</th>\n",
       "    </tr>\n",
       "  </thead>\n",
       "  <tbody>\n",
       "    <tr>\n",
       "      <th>13497</th>\n",
       "      <td>28373</td>\n",
       "      <td>0552996009</td>\n",
       "      <td>9.0</td>\n",
       "      <td>7.601010</td>\n",
       "      <td>False</td>\n",
       "      <td>8.0</td>\n",
       "      <td>1.398990</td>\n",
       "    </tr>\n",
       "    <tr>\n",
       "      <th>31524</th>\n",
       "      <td>271225</td>\n",
       "      <td>0385495641</td>\n",
       "      <td>9.0</td>\n",
       "      <td>7.868930</td>\n",
       "      <td>False</td>\n",
       "      <td>8.0</td>\n",
       "      <td>1.131070</td>\n",
       "    </tr>\n",
       "    <tr>\n",
       "      <th>5485</th>\n",
       "      <td>179739</td>\n",
       "      <td>0441172695</td>\n",
       "      <td>9.0</td>\n",
       "      <td>8.193671</td>\n",
       "      <td>False</td>\n",
       "      <td>8.0</td>\n",
       "      <td>0.806329</td>\n",
       "    </tr>\n",
       "    <tr>\n",
       "      <th>32172</th>\n",
       "      <td>173999</td>\n",
       "      <td>229030039X</td>\n",
       "      <td>9.0</td>\n",
       "      <td>7.586717</td>\n",
       "      <td>False</td>\n",
       "      <td>8.0</td>\n",
       "      <td>1.413283</td>\n",
       "    </tr>\n",
       "    <tr>\n",
       "      <th>12732</th>\n",
       "      <td>93629</td>\n",
       "      <td>0679726012</td>\n",
       "      <td>9.0</td>\n",
       "      <td>7.415487</td>\n",
       "      <td>False</td>\n",
       "      <td>7.0</td>\n",
       "      <td>1.584513</td>\n",
       "    </tr>\n",
       "  </tbody>\n",
       "</table>\n",
       "</div>"
      ],
      "text/plain": [
       "       user_id        isbn  actual_rating  pred_rating  impossible  \\\n",
       "13497    28373  0552996009            9.0     7.601010       False   \n",
       "31524   271225  0385495641            9.0     7.868930       False   \n",
       "5485    179739  0441172695            9.0     8.193671       False   \n",
       "32172   173999  229030039X            9.0     7.586717       False   \n",
       "12732    93629  0679726012            9.0     7.415487       False   \n",
       "\n",
       "       pred_rating_round   abs_err  \n",
       "13497                8.0  1.398990  \n",
       "31524                8.0  1.131070  \n",
       "5485                 8.0  0.806329  \n",
       "32172                8.0  1.413283  \n",
       "12732                7.0  1.584513  "
      ]
     },
     "execution_count": 23,
     "metadata": {},
     "output_type": "execute_result"
    }
   ],
   "source": [
    "df_pred = pd.DataFrame(predictions, columns=['user_id', 'isbn', 'actual_rating', 'pred_rating', 'details'])\n",
    "\n",
    "df_pred['impossible'] = df_pred['details'].apply(lambda x: x['was_impossible'])\n",
    "df_pred['pred_rating_round'] = df_pred['pred_rating'].round()\n",
    "df_pred['abs_err'] = abs(df_pred['pred_rating'] - df_pred['actual_rating'])\n",
    "df_pred.drop(['details'], axis=1, inplace=True)\n",
    "\n",
    "df_pred.sample(5)"
   ]
  },
  {
   "cell_type": "code",
   "execution_count": 20,
   "metadata": {},
   "outputs": [
    {
     "data": {
      "image/png": "[encoded data removed]",
      "text/plain": [
       "<Figure size 1008x288 with 2 Axes>"
      ]
     },
     "metadata": {
      "needs_background": "light"
     },
     "output_type": "display_data"
    }
   ],
   "source": [
    "palette = sns.color_palette(\"RdBu\", 10)\n",
    "fig, (ax1, ax2) = plt.subplots(nrows=1, ncols=2, figsize=(14, 4))\n",
    "\n",
    "sns.countplot(x='actual_rating', data=df_pred, palette=palette, ax=ax1)\n",
    "ax1.set_title('Distribution of actual ratings of books in the test set')\n",
    "\n",
    "sns.countplot(x='pred_rating_round', data=df_pred, palette=palette, ax=ax2)\n",
    "ax2.set_title('Distribution of predicted ratings of books in the test set')\n",
    "\n",
    "plt.show()"
   ]
  },
  {
   "cell_type": "code",
   "execution_count": 21,
   "metadata": {},
   "outputs": [
    {
     "data": {
      "image/png": "[encoded data removed]",
      "text/plain": [
       "<Figure size 1008x288 with 2 Axes>"
      ]
     },
     "metadata": {
      "needs_background": "light"
     },
     "output_type": "display_data"
    }
   ],
   "source": [
    "df_pred_err = df_pred.groupby('actual_rating')['abs_err'].mean().reset_index()\n",
    "\n",
    "fig, (ax1, ax2) = plt.subplots(nrows=1, ncols=2, figsize=(14, 4))\n",
    "\n",
    "sns.distplot(df_pred['abs_err'], color='#2f6194', ax=ax1)\n",
    "ax1.set_title('Distribution of absolute error in test set')\n",
    "\n",
    "sns.barplot(x='actual_rating', y='abs_err', data=df_pred_err, palette=palette, ax=ax2)\n",
    "ax2.set_title('Mean absolute error for rating in test set')\n",
    "\n",
    "plt.show()"
   ]
  },
  {
   "cell_type": "code",
   "execution_count": 41,
   "metadata": {},
   "outputs": [],
   "source": [
    "df_books = pd.read_csv('data/books.csv')\n",
    "\n",
    "df_ext = df.merge(df_books[['isbn', 'book_title']], on='isbn', how='left')\n",
    "df_ext['book_title_short'] = df_ext['book_title'].apply(f.short_title)\n",
    "df_ext = df_ext.merge(df_pred[['isbn', 'user_id', 'pred_rating']], on=['isbn', 'user_id'], how='left')"
   ]
  },
  {
   "cell_type": "code",
   "execution_count": 62,
   "metadata": {},
   "outputs": [
    {
     "name": "stdout",
     "output_type": "stream",
     "text": [
      "12824\n"
     ]
    },
    {
     "data": {
      "text/html": [
       "<div>\n",
       "<style scoped>\n",
       "    .dataframe tbody tr th:only-of-type {\n",
       "        vertical-align: middle;\n",
       "    }\n",
       "\n",
       "    .dataframe tbody tr th {\n",
       "        vertical-align: top;\n",
       "    }\n",
       "\n",
       "    .dataframe thead th {\n",
       "        text-align: right;\n",
       "    }\n",
       "</style>\n",
       "<table border=\"1\" class=\"dataframe\">\n",
       "  <thead>\n",
       "    <tr style=\"text-align: right;\">\n",
       "      <th></th>\n",
       "      <th>user_id</th>\n",
       "      <th>isbn</th>\n",
       "      <th>book_rating</th>\n",
       "      <th>book_title</th>\n",
       "      <th>book_title_short</th>\n",
       "      <th>pred_rating</th>\n",
       "    </tr>\n",
       "  </thead>\n",
       "  <tbody>\n",
       "    <tr>\n",
       "      <th>11344</th>\n",
       "      <td>12824</td>\n",
       "      <td>193151495X</td>\n",
       "      <td>10</td>\n",
       "      <td>Real Bout High School #1</td>\n",
       "      <td>Real Bout High School #1</td>\n",
       "      <td>NaN</td>\n",
       "    </tr>\n",
       "    <tr>\n",
       "      <th>11342</th>\n",
       "      <td>12824</td>\n",
       "      <td>1591824141</td>\n",
       "      <td>10</td>\n",
       "      <td>.Hack: //Legend of the Twilight, Vol. 1</td>\n",
       "      <td>.Hack: //Legend of the Twilight, Vol. 1</td>\n",
       "      <td>NaN</td>\n",
       "    </tr>\n",
       "    <tr>\n",
       "      <th>11335</th>\n",
       "      <td>12824</td>\n",
       "      <td>1591820065</td>\n",
       "      <td>10</td>\n",
       "      <td>Chobits VOL. 3</td>\n",
       "      <td>Chobits VOL. 3</td>\n",
       "      <td>NaN</td>\n",
       "    </tr>\n",
       "    <tr>\n",
       "      <th>11336</th>\n",
       "      <td>12824</td>\n",
       "      <td>1591820073</td>\n",
       "      <td>10</td>\n",
       "      <td>Chobits (Chobits)</td>\n",
       "      <td>Chobits (Chobits)</td>\n",
       "      <td>NaN</td>\n",
       "    </tr>\n",
       "    <tr>\n",
       "      <th>11324</th>\n",
       "      <td>12824</td>\n",
       "      <td>0671024337</td>\n",
       "      <td>10</td>\n",
       "      <td>The Watchers Guide Buffy The Vampire Slayer (B...</td>\n",
       "      <td>The Watchers Guide Buffy The Vampire Slayer</td>\n",
       "      <td>NaN</td>\n",
       "    </tr>\n",
       "    <tr>\n",
       "      <th>11337</th>\n",
       "      <td>12824</td>\n",
       "      <td>1591821533</td>\n",
       "      <td>10</td>\n",
       "      <td>Chobits (Chobits)</td>\n",
       "      <td>Chobits (Chobits)</td>\n",
       "      <td>NaN</td>\n",
       "    </tr>\n",
       "    <tr>\n",
       "      <th>11320</th>\n",
       "      <td>12824</td>\n",
       "      <td>0451092163</td>\n",
       "      <td>10</td>\n",
       "      <td>The Shining (Signet Book)</td>\n",
       "      <td>The Shining (Signet Book)</td>\n",
       "      <td>NaN</td>\n",
       "    </tr>\n",
       "    <tr>\n",
       "      <th>11340</th>\n",
       "      <td>12824</td>\n",
       "      <td>1591822572</td>\n",
       "      <td>10</td>\n",
       "      <td>Chobits (Chobits)</td>\n",
       "      <td>Chobits (Chobits)</td>\n",
       "      <td>NaN</td>\n",
       "    </tr>\n",
       "    <tr>\n",
       "      <th>11316</th>\n",
       "      <td>12824</td>\n",
       "      <td>0439136369</td>\n",
       "      <td>10</td>\n",
       "      <td>Harry Potter and the Prisoner of Azkaban (Book 3)</td>\n",
       "      <td>Harry Potter and the Prisoner of Azkaban</td>\n",
       "      <td>NaN</td>\n",
       "    </tr>\n",
       "    <tr>\n",
       "      <th>11343</th>\n",
       "      <td>12824</td>\n",
       "      <td>159182415X</td>\n",
       "      <td>10</td>\n",
       "      <td>.Hack: //Legend of the Twilight, Vol. 2</td>\n",
       "      <td>.Hack: //Legend of the Twilight, Vol. 2</td>\n",
       "      <td>NaN</td>\n",
       "    </tr>\n",
       "    <tr>\n",
       "      <th>11311</th>\n",
       "      <td>12824</td>\n",
       "      <td>0064405052</td>\n",
       "      <td>10</td>\n",
       "      <td>The Magician's Nephew (Narnia)</td>\n",
       "      <td>The Magician's Nephew (Narnia)</td>\n",
       "      <td>NaN</td>\n",
       "    </tr>\n",
       "    <tr>\n",
       "      <th>11310</th>\n",
       "      <td>12824</td>\n",
       "      <td>0064405044</td>\n",
       "      <td>10</td>\n",
       "      <td>The Silver Chair (The Chronicles of Narnia, Bo...</td>\n",
       "      <td>The Silver Chair (The Chronicles of Narnia,</td>\n",
       "      <td>NaN</td>\n",
       "    </tr>\n",
       "    <tr>\n",
       "      <th>11309</th>\n",
       "      <td>12824</td>\n",
       "      <td>0064405036</td>\n",
       "      <td>10</td>\n",
       "      <td>The Last Battle (The Chronicles of Narnia, Boo...</td>\n",
       "      <td>The Last Battle (The Chronicles of Narnia,</td>\n",
       "      <td>NaN</td>\n",
       "    </tr>\n",
       "    <tr>\n",
       "      <th>11307</th>\n",
       "      <td>12824</td>\n",
       "      <td>0064405001</td>\n",
       "      <td>10</td>\n",
       "      <td>Prince Caspian : The Return to Narnia (Narnia)</td>\n",
       "      <td>Prince Caspian : The Return to Narnia (Narnia)</td>\n",
       "      <td>NaN</td>\n",
       "    </tr>\n",
       "    <tr>\n",
       "      <th>11306</th>\n",
       "      <td>12824</td>\n",
       "      <td>0064404994</td>\n",
       "      <td>10</td>\n",
       "      <td>The Lion, the Witch and the Wardrobe (rpkg) (N...</td>\n",
       "      <td>The Lion, the Witch and the Wardrobe (rpkg)</td>\n",
       "      <td>NaN</td>\n",
       "    </tr>\n",
       "  </tbody>\n",
       "</table>\n",
       "</div>"
      ],
      "text/plain": [
       "       user_id        isbn  book_rating  \\\n",
       "11344    12824  193151495X           10   \n",
       "11342    12824  1591824141           10   \n",
       "11335    12824  1591820065           10   \n",
       "11336    12824  1591820073           10   \n",
       "11324    12824  0671024337           10   \n",
       "11337    12824  1591821533           10   \n",
       "11320    12824  0451092163           10   \n",
       "11340    12824  1591822572           10   \n",
       "11316    12824  0439136369           10   \n",
       "11343    12824  159182415X           10   \n",
       "11311    12824  0064405052           10   \n",
       "11310    12824  0064405044           10   \n",
       "11309    12824  0064405036           10   \n",
       "11307    12824  0064405001           10   \n",
       "11306    12824  0064404994           10   \n",
       "\n",
       "                                              book_title  \\\n",
       "11344                           Real Bout High School #1   \n",
       "11342            .Hack: //Legend of the Twilight, Vol. 1   \n",
       "11335                                     Chobits VOL. 3   \n",
       "11336                                  Chobits (Chobits)   \n",
       "11324  The Watchers Guide Buffy The Vampire Slayer (B...   \n",
       "11337                                  Chobits (Chobits)   \n",
       "11320                          The Shining (Signet Book)   \n",
       "11340                                  Chobits (Chobits)   \n",
       "11316  Harry Potter and the Prisoner of Azkaban (Book 3)   \n",
       "11343            .Hack: //Legend of the Twilight, Vol. 2   \n",
       "11311                     The Magician's Nephew (Narnia)   \n",
       "11310  The Silver Chair (The Chronicles of Narnia, Bo...   \n",
       "11309  The Last Battle (The Chronicles of Narnia, Boo...   \n",
       "11307     Prince Caspian : The Return to Narnia (Narnia)   \n",
       "11306  The Lion, the Witch and the Wardrobe (rpkg) (N...   \n",
       "\n",
       "                                     book_title_short  pred_rating  \n",
       "11344                        Real Bout High School #1          NaN  \n",
       "11342         .Hack: //Legend of the Twilight, Vol. 1          NaN  \n",
       "11335                                  Chobits VOL. 3          NaN  \n",
       "11336                               Chobits (Chobits)          NaN  \n",
       "11324     The Watchers Guide Buffy The Vampire Slayer          NaN  \n",
       "11337                               Chobits (Chobits)          NaN  \n",
       "11320                       The Shining (Signet Book)          NaN  \n",
       "11340                               Chobits (Chobits)          NaN  \n",
       "11316        Harry Potter and the Prisoner of Azkaban          NaN  \n",
       "11343         .Hack: //Legend of the Twilight, Vol. 2          NaN  \n",
       "11311                  The Magician's Nephew (Narnia)          NaN  \n",
       "11310     The Silver Chair (The Chronicles of Narnia,          NaN  \n",
       "11309      The Last Battle (The Chronicles of Narnia,          NaN  \n",
       "11307  Prince Caspian : The Return to Narnia (Narnia)          NaN  \n",
       "11306     The Lion, the Witch and the Wardrobe (rpkg)          NaN  "
      ]
     },
     "execution_count": 62,
     "metadata": {},
     "output_type": "execute_result"
    }
   ],
   "source": [
    "selected_user_id = np.random.choice(df_ext['user_id']) #12824\n",
    "print(selected_user_id)\n",
    "\n",
    "df_user = df_ext[df_ext['user_id']==selected_user_id]\n",
    "df_user[df_user['pred_rating'].isna()].sort_values('book_rating', ascending=False).head(15)"
   ]
  },
  {
   "cell_type": "code",
   "execution_count": 65,
   "metadata": {},
   "outputs": [
    {
     "data": {
      "text/html": [
       "<div>\n",
       "<style scoped>\n",
       "    .dataframe tbody tr th:only-of-type {\n",
       "        vertical-align: middle;\n",
       "    }\n",
       "\n",
       "    .dataframe tbody tr th {\n",
       "        vertical-align: top;\n",
       "    }\n",
       "\n",
       "    .dataframe thead th {\n",
       "        text-align: right;\n",
       "    }\n",
       "</style>\n",
       "<table border=\"1\" class=\"dataframe\">\n",
       "  <thead>\n",
       "    <tr style=\"text-align: right;\">\n",
       "      <th></th>\n",
       "      <th>user_id</th>\n",
       "      <th>isbn</th>\n",
       "      <th>book_rating</th>\n",
       "      <th>book_title</th>\n",
       "      <th>book_title_short</th>\n",
       "      <th>pred_rating</th>\n",
       "    </tr>\n",
       "  </thead>\n",
       "  <tbody>\n",
       "    <tr>\n",
       "      <th>11308</th>\n",
       "      <td>12824</td>\n",
       "      <td>0064405028</td>\n",
       "      <td>10</td>\n",
       "      <td>The Voyage of the 'Dawn Treader' (The Chronicl...</td>\n",
       "      <td>The Voyage of the 'Dawn Treader' (The Chronicles</td>\n",
       "      <td>8.395010</td>\n",
       "    </tr>\n",
       "    <tr>\n",
       "      <th>11322</th>\n",
       "      <td>12824</td>\n",
       "      <td>0670835382</td>\n",
       "      <td>8</td>\n",
       "      <td>Four Past Midnight</td>\n",
       "      <td>Four Past Midnight</td>\n",
       "      <td>8.385025</td>\n",
       "    </tr>\n",
       "    <tr>\n",
       "      <th>11317</th>\n",
       "      <td>12824</td>\n",
       "      <td>0440206154</td>\n",
       "      <td>8</td>\n",
       "      <td>Red Dragon</td>\n",
       "      <td>Red Dragon</td>\n",
       "      <td>8.274115</td>\n",
       "    </tr>\n",
       "    <tr>\n",
       "      <th>11312</th>\n",
       "      <td>12824</td>\n",
       "      <td>0345370775</td>\n",
       "      <td>7</td>\n",
       "      <td>Jurassic Park</td>\n",
       "      <td>Jurassic Park</td>\n",
       "      <td>8.111547</td>\n",
       "    </tr>\n",
       "    <tr>\n",
       "      <th>11341</th>\n",
       "      <td>12824</td>\n",
       "      <td>1591822580</td>\n",
       "      <td>10</td>\n",
       "      <td>Chobits (Chobits)</td>\n",
       "      <td>Chobits (Chobits)</td>\n",
       "      <td>8.111333</td>\n",
       "    </tr>\n",
       "  </tbody>\n",
       "</table>\n",
       "</div>"
      ],
      "text/plain": [
       "       user_id        isbn  book_rating  \\\n",
       "11308    12824  0064405028           10   \n",
       "11322    12824  0670835382            8   \n",
       "11317    12824  0440206154            8   \n",
       "11312    12824  0345370775            7   \n",
       "11341    12824  1591822580           10   \n",
       "\n",
       "                                              book_title  \\\n",
       "11308  The Voyage of the 'Dawn Treader' (The Chronicl...   \n",
       "11322                                 Four Past Midnight   \n",
       "11317                                         Red Dragon   \n",
       "11312                                      Jurassic Park   \n",
       "11341                                  Chobits (Chobits)   \n",
       "\n",
       "                                       book_title_short  pred_rating  \n",
       "11308  The Voyage of the 'Dawn Treader' (The Chronicles     8.395010  \n",
       "11322                                Four Past Midnight     8.385025  \n",
       "11317                                        Red Dragon     8.274115  \n",
       "11312                                     Jurassic Park     8.111547  \n",
       "11341                                 Chobits (Chobits)     8.111333  "
      ]
     },
     "execution_count": 65,
     "metadata": {},
     "output_type": "execute_result"
    }
   ],
   "source": [
    "df_user[df_user['pred_rating'].notna()].sort_values('pred_rating', ascending=False).head(5)"
   ]
  },
  {
   "cell_type": "code",
   "execution_count": 66,
   "metadata": {},
   "outputs": [
    {
     "data": {
      "text/html": [
       "<div>\n",
       "<style scoped>\n",
       "    .dataframe tbody tr th:only-of-type {\n",
       "        vertical-align: middle;\n",
       "    }\n",
       "\n",
       "    .dataframe tbody tr th {\n",
       "        vertical-align: top;\n",
       "    }\n",
       "\n",
       "    .dataframe thead th {\n",
       "        text-align: right;\n",
       "    }\n",
       "</style>\n",
       "<table border=\"1\" class=\"dataframe\">\n",
       "  <thead>\n",
       "    <tr style=\"text-align: right;\">\n",
       "      <th></th>\n",
       "      <th>user_id</th>\n",
       "      <th>isbn</th>\n",
       "      <th>book_rating</th>\n",
       "      <th>book_title</th>\n",
       "      <th>book_title_short</th>\n",
       "      <th>pred_rating</th>\n",
       "    </tr>\n",
       "  </thead>\n",
       "  <tbody>\n",
       "    <tr>\n",
       "      <th>11308</th>\n",
       "      <td>12824</td>\n",
       "      <td>0064405028</td>\n",
       "      <td>10</td>\n",
       "      <td>The Voyage of the 'Dawn Treader' (The Chronicl...</td>\n",
       "      <td>The Voyage of the 'Dawn Treader' (The Chronicles</td>\n",
       "      <td>8.395010</td>\n",
       "    </tr>\n",
       "    <tr>\n",
       "      <th>11341</th>\n",
       "      <td>12824</td>\n",
       "      <td>1591822580</td>\n",
       "      <td>10</td>\n",
       "      <td>Chobits (Chobits)</td>\n",
       "      <td>Chobits (Chobits)</td>\n",
       "      <td>8.111333</td>\n",
       "    </tr>\n",
       "    <tr>\n",
       "      <th>11333</th>\n",
       "      <td>12824</td>\n",
       "      <td>1568304706</td>\n",
       "      <td>9</td>\n",
       "      <td>Adobe(R) Illustrator(R) 8.0 Classroom in a Book</td>\n",
       "      <td>Adobe(R) Illustrator(R) 8.0 Classroom in</td>\n",
       "      <td>7.894696</td>\n",
       "    </tr>\n",
       "    <tr>\n",
       "      <th>11317</th>\n",
       "      <td>12824</td>\n",
       "      <td>0440206154</td>\n",
       "      <td>8</td>\n",
       "      <td>Red Dragon</td>\n",
       "      <td>Red Dragon</td>\n",
       "      <td>8.274115</td>\n",
       "    </tr>\n",
       "    <tr>\n",
       "      <th>11321</th>\n",
       "      <td>12824</td>\n",
       "      <td>0553561618</td>\n",
       "      <td>8</td>\n",
       "      <td>Dark Paradise</td>\n",
       "      <td>Dark Paradise</td>\n",
       "      <td>7.449869</td>\n",
       "    </tr>\n",
       "  </tbody>\n",
       "</table>\n",
       "</div>"
      ],
      "text/plain": [
       "       user_id        isbn  book_rating  \\\n",
       "11308    12824  0064405028           10   \n",
       "11341    12824  1591822580           10   \n",
       "11333    12824  1568304706            9   \n",
       "11317    12824  0440206154            8   \n",
       "11321    12824  0553561618            8   \n",
       "\n",
       "                                              book_title  \\\n",
       "11308  The Voyage of the 'Dawn Treader' (The Chronicl...   \n",
       "11341                                  Chobits (Chobits)   \n",
       "11333    Adobe(R) Illustrator(R) 8.0 Classroom in a Book   \n",
       "11317                                         Red Dragon   \n",
       "11321                                      Dark Paradise   \n",
       "\n",
       "                                       book_title_short  pred_rating  \n",
       "11308  The Voyage of the 'Dawn Treader' (The Chronicles     8.395010  \n",
       "11341                                 Chobits (Chobits)     8.111333  \n",
       "11333          Adobe(R) Illustrator(R) 8.0 Classroom in     7.894696  \n",
       "11317                                        Red Dragon     8.274115  \n",
       "11321                                     Dark Paradise     7.449869  "
      ]
     },
     "execution_count": 66,
     "metadata": {},
     "output_type": "execute_result"
    }
   ],
   "source": [
    "df_user[df_user['pred_rating'].notna()].sort_values('book_rating', ascending=False).head(5)"
   ]
  },
  {
   "cell_type": "code",
   "execution_count": null,
   "metadata": {},
   "outputs": [],
   "source": []
  }
 ],
 "metadata": {
  "kernelspec": {
   "display_name": "master",
   "language": "python",
   "name": "master"
  },
  "language_info": {
   "codemirror_mode": {
    "name": "ipython",
    "version": 3
   },
   "file_extension": ".py",
   "mimetype": "text/x-python",
   "name": "python",
   "nbconvert_exporter": "python",
   "pygments_lexer": "ipython3",
   "version": "3.7.6"
  }
 },
 "nbformat": 4,
 "nbformat_minor": 2
}
